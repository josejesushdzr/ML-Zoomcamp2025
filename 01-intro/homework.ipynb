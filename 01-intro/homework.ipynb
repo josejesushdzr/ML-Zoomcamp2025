{
 "cells": [
  {
   "cell_type": "code",
   "execution_count": 1,
   "id": "382436b2-3ba9-4ea1-84bb-7926a9b81dff",
   "metadata": {},
   "outputs": [],
   "source": [
    "import numpy as np\n",
    "import pandas as pd\n",
    "import matplotlib as plt\n",
    "import seaborn as sns"
   ]
  },
  {
   "cell_type": "markdown",
   "id": "d8c9430e",
   "metadata": {},
   "source": [
    "Q1. Pandas version\n",
    "What's the version of Pandas that you installed?"
   ]
  },
  {
   "cell_type": "code",
   "execution_count": 2,
   "id": "e980580d",
   "metadata": {},
   "outputs": [
    {
     "name": "stdout",
     "output_type": "stream",
     "text": [
      "2.3.1\n"
     ]
    }
   ],
   "source": [
    "print(pd.__version__)"
   ]
  },
  {
   "cell_type": "markdown",
   "id": "a2e7c05c",
   "metadata": {},
   "source": [
    "Getting the data\n",
    "For this homework, we'll use the Car Fuel Efficiency dataset. Download it from here.\n",
    "\n",
    "You can do it with wget:\n",
    "\n",
    "wget https://raw.githubusercontent.com/alexeygrigorev/datasets/master/car_fuel_efficiency.csv"
   ]
  },
  {
   "cell_type": "code",
   "execution_count": 3,
   "id": "9d56b23b",
   "metadata": {},
   "outputs": [
    {
     "data": {
      "text/html": [
       "<div>\n",
       "<style scoped>\n",
       "    .dataframe tbody tr th:only-of-type {\n",
       "        vertical-align: middle;\n",
       "    }\n",
       "\n",
       "    .dataframe tbody tr th {\n",
       "        vertical-align: top;\n",
       "    }\n",
       "\n",
       "    .dataframe thead th {\n",
       "        text-align: right;\n",
       "    }\n",
       "</style>\n",
       "<table border=\"1\" class=\"dataframe\">\n",
       "  <thead>\n",
       "    <tr style=\"text-align: right;\">\n",
       "      <th></th>\n",
       "      <th>engine_displacement</th>\n",
       "      <th>num_cylinders</th>\n",
       "      <th>horsepower</th>\n",
       "      <th>vehicle_weight</th>\n",
       "      <th>acceleration</th>\n",
       "      <th>model_year</th>\n",
       "      <th>origin</th>\n",
       "      <th>fuel_type</th>\n",
       "      <th>drivetrain</th>\n",
       "      <th>num_doors</th>\n",
       "      <th>fuel_efficiency_mpg</th>\n",
       "    </tr>\n",
       "  </thead>\n",
       "  <tbody>\n",
       "    <tr>\n",
       "      <th>0</th>\n",
       "      <td>170</td>\n",
       "      <td>3.0</td>\n",
       "      <td>159.0</td>\n",
       "      <td>3413.433759</td>\n",
       "      <td>17.7</td>\n",
       "      <td>2003</td>\n",
       "      <td>Europe</td>\n",
       "      <td>Gasoline</td>\n",
       "      <td>All-wheel drive</td>\n",
       "      <td>0.0</td>\n",
       "      <td>13.231729</td>\n",
       "    </tr>\n",
       "    <tr>\n",
       "      <th>1</th>\n",
       "      <td>130</td>\n",
       "      <td>5.0</td>\n",
       "      <td>97.0</td>\n",
       "      <td>3149.664934</td>\n",
       "      <td>17.8</td>\n",
       "      <td>2007</td>\n",
       "      <td>USA</td>\n",
       "      <td>Gasoline</td>\n",
       "      <td>Front-wheel drive</td>\n",
       "      <td>0.0</td>\n",
       "      <td>13.688217</td>\n",
       "    </tr>\n",
       "    <tr>\n",
       "      <th>2</th>\n",
       "      <td>170</td>\n",
       "      <td>NaN</td>\n",
       "      <td>78.0</td>\n",
       "      <td>3079.038997</td>\n",
       "      <td>15.1</td>\n",
       "      <td>2018</td>\n",
       "      <td>Europe</td>\n",
       "      <td>Gasoline</td>\n",
       "      <td>Front-wheel drive</td>\n",
       "      <td>0.0</td>\n",
       "      <td>14.246341</td>\n",
       "    </tr>\n",
       "    <tr>\n",
       "      <th>3</th>\n",
       "      <td>220</td>\n",
       "      <td>4.0</td>\n",
       "      <td>NaN</td>\n",
       "      <td>2542.392402</td>\n",
       "      <td>20.2</td>\n",
       "      <td>2009</td>\n",
       "      <td>USA</td>\n",
       "      <td>Diesel</td>\n",
       "      <td>All-wheel drive</td>\n",
       "      <td>2.0</td>\n",
       "      <td>16.912736</td>\n",
       "    </tr>\n",
       "    <tr>\n",
       "      <th>4</th>\n",
       "      <td>210</td>\n",
       "      <td>1.0</td>\n",
       "      <td>140.0</td>\n",
       "      <td>3460.870990</td>\n",
       "      <td>14.4</td>\n",
       "      <td>2009</td>\n",
       "      <td>Europe</td>\n",
       "      <td>Gasoline</td>\n",
       "      <td>All-wheel drive</td>\n",
       "      <td>2.0</td>\n",
       "      <td>12.488369</td>\n",
       "    </tr>\n",
       "  </tbody>\n",
       "</table>\n",
       "</div>"
      ],
      "text/plain": [
       "   engine_displacement  num_cylinders  horsepower  vehicle_weight  \\\n",
       "0                  170            3.0       159.0     3413.433759   \n",
       "1                  130            5.0        97.0     3149.664934   \n",
       "2                  170            NaN        78.0     3079.038997   \n",
       "3                  220            4.0         NaN     2542.392402   \n",
       "4                  210            1.0       140.0     3460.870990   \n",
       "\n",
       "   acceleration  model_year  origin fuel_type         drivetrain  num_doors  \\\n",
       "0          17.7        2003  Europe  Gasoline    All-wheel drive        0.0   \n",
       "1          17.8        2007     USA  Gasoline  Front-wheel drive        0.0   \n",
       "2          15.1        2018  Europe  Gasoline  Front-wheel drive        0.0   \n",
       "3          20.2        2009     USA    Diesel    All-wheel drive        2.0   \n",
       "4          14.4        2009  Europe  Gasoline    All-wheel drive        2.0   \n",
       "\n",
       "   fuel_efficiency_mpg  \n",
       "0            13.231729  \n",
       "1            13.688217  \n",
       "2            14.246341  \n",
       "3            16.912736  \n",
       "4            12.488369  "
      ]
     },
     "execution_count": 3,
     "metadata": {},
     "output_type": "execute_result"
    }
   ],
   "source": [
    "df = pd.read_csv('car_fuel_efficiency.csv')\n",
    "df.head()"
   ]
  },
  {
   "cell_type": "markdown",
   "id": "5af5f9e0",
   "metadata": {},
   "source": [
    "Q2. Records count\n",
    "How many records are in the dataset?\n",
    "\n",
    "ANSWER: 9704"
   ]
  },
  {
   "cell_type": "code",
   "execution_count": 4,
   "id": "81712f2b",
   "metadata": {},
   "outputs": [
    {
     "data": {
      "text/plain": [
       "9704"
      ]
     },
     "execution_count": 4,
     "metadata": {},
     "output_type": "execute_result"
    }
   ],
   "source": [
    "num_rows = len(df)\n",
    "num_rows"
   ]
  },
  {
   "cell_type": "markdown",
   "id": "bccf9ecc",
   "metadata": {},
   "source": [
    "Q3. Fuel types\n",
    "How many fuel types are presented in the dataset?\n",
    "\n",
    "ANSWER: 2"
   ]
  },
  {
   "cell_type": "code",
   "execution_count": 5,
   "id": "55fc1d20",
   "metadata": {},
   "outputs": [
    {
     "name": "stdout",
     "output_type": "stream",
     "text": [
      "['Gasoline' 'Diesel']\n"
     ]
    }
   ],
   "source": [
    "fuel_type = df.fuel_type.unique()\n",
    "print(fuel_type)"
   ]
  },
  {
   "cell_type": "markdown",
   "id": "b1c1f585",
   "metadata": {},
   "source": [
    "Q4. Missing values\n",
    "How many columns in the dataset have missing values?\n",
    "\n",
    "ANSWER: 4"
   ]
  },
  {
   "cell_type": "code",
   "execution_count": 6,
   "id": "28a65670",
   "metadata": {},
   "outputs": [
    {
     "data": {
      "text/plain": [
       "engine_displacement      0\n",
       "num_cylinders          482\n",
       "horsepower             708\n",
       "vehicle_weight           0\n",
       "acceleration           930\n",
       "model_year               0\n",
       "origin                   0\n",
       "fuel_type                0\n",
       "drivetrain               0\n",
       "num_doors              502\n",
       "fuel_efficiency_mpg      0\n",
       "dtype: int64"
      ]
     },
     "execution_count": 6,
     "metadata": {},
     "output_type": "execute_result"
    }
   ],
   "source": [
    "columns_missing_values = df.isnull().sum()\n",
    "columns_missing_values"
   ]
  },
  {
   "cell_type": "markdown",
   "id": "d0141ee6",
   "metadata": {},
   "source": [
    "Q5. Max fuel efficiency\n",
    "What's the maximum fuel efficiency of cars from Asia?\n",
    "\n",
    "ANSWER: 23.75"
   ]
  },
  {
   "cell_type": "code",
   "execution_count": 7,
   "id": "9d9dc392",
   "metadata": {},
   "outputs": [
    {
     "data": {
      "text/plain": [
       "np.float64(23.759122836520497)"
      ]
     },
     "execution_count": 7,
     "metadata": {},
     "output_type": "execute_result"
    }
   ],
   "source": [
    "max_asia_fuel_efficiency = df[df.origin == 'Asia'].fuel_efficiency_mpg.max()\n",
    "max_asia_fuel_efficiency"
   ]
  },
  {
   "cell_type": "markdown",
   "id": "d0261d5c",
   "metadata": {},
   "source": [
    "Q6. Median value of horsepower\n",
    "1. Find the median value of horsepower column in the dataset.\n",
    "2. Next, calculate the most frequent value of the same horsepower column.\n",
    "3. Use fillna method to fill the missing values in horsepower column with the most frequent value from the previous step.\n",
    "4. Now, calculate the median value of horsepower once again.\n",
    "\n",
    "ANSWER: Has it changed? NO."
   ]
  },
  {
   "cell_type": "code",
   "execution_count": 8,
   "id": "9ff643d9",
   "metadata": {},
   "outputs": [
    {
     "name": "stdout",
     "output_type": "stream",
     "text": [
      "Median horsepower with NAs:  149.0\n",
      "Median horsepower with NAs filled:  149.0\n"
     ]
    }
   ],
   "source": [
    "median_horsepower = df.horsepower.median()\n",
    "mode_horsepower = df.horsepower.mode()\n",
    "df.horsepower = df.horsepower.fillna(mode_horsepower)\n",
    "\n",
    "median_horsepower_filled = df.horsepower.median()\n",
    "\n",
    "print('Median horsepower with NAs: ', median_horsepower)\n",
    "print('Median horsepower with NAs filled: ', median_horsepower_filled)\n",
    "\n"
   ]
  },
  {
   "cell_type": "markdown",
   "id": "43f437ee",
   "metadata": {},
   "source": [
    "Q7. Sum of weights\n",
    "1. Select all the cars from Asia\n",
    "2. Select only columns vehicle_weight and model_year\n",
    "3. Select the first 7 values\n",
    "4. Get the underlying NumPy array. Let's call it X.\n",
    "5. Compute matrix-matrix multiplication between the transpose of X and X. To get the transpose, use X.T. Let's call the result XTX.\n",
    "6. Invert XTX.\n",
    "7. Create an array y with values [1100, 1300, 800, 900, 1000, 1100, 1200].\n",
    "8. Multiply the inverse of XTX with the transpose of X, and then multiply the result by y. Call the result w.\n",
    "9. What's the sum of all the elements of the result?\n",
    "Note: You just implemented linear regression. We'll talk about it in the next lesson.\n",
    "\n",
    "ANSWER: 0.51"
   ]
  },
  {
   "cell_type": "code",
   "execution_count": 9,
   "id": "5fcd7389",
   "metadata": {},
   "outputs": [],
   "source": [
    "asian_cars = df[df.origin == 'Asia']\n",
    "asian_cars = asian_cars[['vehicle_weight', 'model_year']]\n",
    "\n",
    "X = np.array(asian_cars.head(7))\n",
    "XTX = X.T.dot(X)\n",
    "\n",
    "XTX_inverse = np.linalg.inv(XTX)\n",
    "\n",
    "y = np.array([1100, 1300, 800, 900, 1000, 1100, 1200])\n"
   ]
  },
  {
   "cell_type": "code",
   "execution_count": 10,
   "id": "e62d204f",
   "metadata": {},
   "outputs": [
    {
     "name": "stdout",
     "output_type": "stream",
     "text": [
      "(7, 2)\n",
      "(2, 2)\n",
      "(2, 2)\n",
      "(7,)\n"
     ]
    }
   ],
   "source": [
    "print(X.shape)\n",
    "print(XTX.shape)\n",
    "print(XTX_inverse.shape)\n",
    "print(y.shape)"
   ]
  },
  {
   "cell_type": "code",
   "execution_count": 13,
   "id": "6fc4bfb6",
   "metadata": {},
   "outputs": [],
   "source": [
    "w = XTX_inverse.dot(X.T).dot(y)"
   ]
  },
  {
   "cell_type": "code",
   "execution_count": 14,
   "id": "4b896e09",
   "metadata": {},
   "outputs": [
    {
     "data": {
      "text/plain": [
       "np.float64(0.5187709081074016)"
      ]
     },
     "execution_count": 14,
     "metadata": {},
     "output_type": "execute_result"
    }
   ],
   "source": [
    "np.sum(w)"
   ]
  }
 ],
 "metadata": {
  "kernelspec": {
   "display_name": "Python 3",
   "language": "python",
   "name": "python3"
  },
  "language_info": {
   "codemirror_mode": {
    "name": "ipython",
    "version": 3
   },
   "file_extension": ".py",
   "mimetype": "text/x-python",
   "name": "python",
   "nbconvert_exporter": "python",
   "pygments_lexer": "ipython3",
   "version": "3.12.1"
  }
 },
 "nbformat": 4,
 "nbformat_minor": 5
}
